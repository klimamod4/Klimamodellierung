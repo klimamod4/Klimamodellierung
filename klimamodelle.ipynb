{
 "cells": [
  {
   "cell_type": "code",
   "execution_count": 62,
   "metadata": {},
   "outputs": [],
   "source": [
    "import xarray as xa\n",
    "import numpy"
   ]
  },
  {
   "cell_type": "markdown",
   "metadata": {},
   "source": [
    "### Daten einlesen"
   ]
  },
  {
   "cell_type": "code",
   "execution_count": 3,
   "metadata": {},
   "outputs": [],
   "source": [
    "#all:\n",
    "#mslp_data = xa.open_mfdataset('/raid/home/srvx7/lehre/users/a1401391/JRA-55/mslp_daily/*')\n",
    "#rh_data = xa.open_mfdataset('/raid/home/srvx7/lehre/users/a1401391/JRA-55/rh_daily/*')\n",
    "#spfh_data = xa.open_mfdataset('/raid/home/srvx7/lehre/users/a1401391/JRA-55/spfh_daily/*')\n",
    "\n",
    "#test with subsets:\n",
    "mslp_data = xa.open_mfdataset('/raid/home/srvx7/lehre/users/a1402239/JRA-55_subsets/mslp/*')\n",
    "rh_data = xa.open_mfdataset('/raid/home/srvx7/lehre/users/a1402239/JRA-55_subsets/rh/*')\n",
    "spfh_data = xa.open_mfdataset('/raid/home/srvx7/lehre/users/a1402239/JRA-55_subsets/sh/*')"
   ]
  },
  {
   "cell_type": "code",
   "execution_count": 4,
   "metadata": {},
   "outputs": [
    {
     "name": "stdout",
     "output_type": "stream",
     "text": [
      "<xarray.Dataset>\n",
      "Dimensions:                (g0_lat_1: 29, g0_lon_2: 29, initial_time0_hours: 5844)\n",
      "Coordinates:\n",
      "  * g0_lat_1               (g0_lat_1) float32 67.5 66.25 65.0 ... 33.75 32.5\n",
      "  * g0_lon_2               (g0_lon_2) float32 350.0 351.25 352.5 ... 23.75 25.0\n",
      "  * initial_time0_hours    (initial_time0_hours) datetime64[ns] 1958-01-01 ... 1961-12-31T18:00:00\n",
      "Data variables:\n",
      "    PRMSL_GDS0_MSL         (initial_time0_hours, g0_lat_1, g0_lon_2) float32 dask.array<shape=(5844, 29, 29), chunksize=(1460, 29, 29)>\n",
      "    initial_time0          (initial_time0_hours) |S18 dask.array<shape=(5844,), chunksize=(1460,)>\n",
      "    initial_time0_encoded  (initial_time0_hours) float64 dask.array<shape=(5844,), chunksize=(1460,)>\n",
      "Attributes:\n",
      "    creation_date:  Tue May 14 05:24:42 MDT 2019\n",
      "    NCL_Version:    6.6.2\n",
      "    system:         Linux casper12 3.10.0-693.21.1.el7.x86_64 #1 SMP Wed Mar ...\n",
      "    Conventions:    None\n",
      "    grib_source:    anl_surf125.002_prmsl.1958010100_1958123118.salmi370402.grb\n",
      "    title:          NCL: convert-GRIB-to-netCDF\n",
      "    history:        Tue May 14 05:24:44 2019: ncks -O -d g0_lat_1,32.0,68.0 -...\n",
      "    NCO:            netCDF Operators version 4.7.4 (http://nco.sf.net)\n"
     ]
    }
   ],
   "source": [
    "print (mslp_data)"
   ]
  },
  {
   "cell_type": "markdown",
   "metadata": {},
   "source": [
    "### Mittelung"
   ]
  },
  {
   "cell_type": "code",
   "execution_count": 45,
   "metadata": {},
   "outputs": [],
   "source": [
    "daily_mean_mslp = mslp_data.resample(initial_time0_hours='1D').mean()\n",
    "daily_mean_rh = rh_data.resample(initial_time0_hours='1D').mean()\n",
    "daily_mean_spfh = spfh_data.resample(initial_time0_hours='1D').mean()"
   ]
  },
  {
   "cell_type": "code",
   "execution_count": 46,
   "metadata": {},
   "outputs": [],
   "source": [
    "daily_mean_mslp = daily_mean_mslp.chunk(21) #Chunksize anpasse ???\n",
    "daily_mean_rh = daily_mean_rh.chunk(21)\n",
    "daily_mean_spfh = daily_mean_spfh.chunk(21)"
   ]
  },
  {
   "cell_type": "code",
   "execution_count": 47,
   "metadata": {},
   "outputs": [
    {
     "name": "stdout",
     "output_type": "stream",
     "text": [
      "<xarray.Dataset>\n",
      "Dimensions:                (g0_lat_1: 29, g0_lon_2: 29, initial_time0_hours: 1461)\n",
      "Coordinates:\n",
      "  * initial_time0_hours    (initial_time0_hours) datetime64[ns] 1958-01-01 ... 1961-12-31\n",
      "  * g0_lat_1               (g0_lat_1) float32 67.5 66.25 65.0 ... 33.75 32.5\n",
      "  * g0_lon_2               (g0_lon_2) float32 350.0 351.25 352.5 ... 23.75 25.0\n",
      "Data variables:\n",
      "    PRMSL_GDS0_MSL         (initial_time0_hours, g0_lat_1, g0_lon_2) float32 dask.array<shape=(1461, 29, 29), chunksize=(21, 21, 21)>\n",
      "    initial_time0_encoded  (initial_time0_hours) float64 dask.array<shape=(1461,), chunksize=(21,)>\n"
     ]
    }
   ],
   "source": [
    "print (daily_mean_mslp)"
   ]
  },
  {
   "cell_type": "code",
   "execution_count": 48,
   "metadata": {},
   "outputs": [],
   "source": [
    "# Rollendes Fenster, 1 in Mitte, 10 Tage davor, 10 Tage danach\n",
    "daily_roll_mslp = daily_mean_mslp.rolling(initial_time0_hours=21,center=1).mean()\n",
    "daily_roll_rh = daily_mean_rh.rolling(initial_time0_hours=21,center=1).mean()\n",
    "daily_roll_spfh = daily_mean_spfh.rolling(initial_time0_hours=21,center=1).mean()"
   ]
  },
  {
   "cell_type": "code",
   "execution_count": 49,
   "metadata": {},
   "outputs": [],
   "source": [
    "daily_mean_mslp = daily_roll_mslp.groupby('initial_time0_hours.dayofyear').mean('initial_time0_hours')\n",
    "daily_mean_rh = daily_roll_rh.groupby('initial_time0_hours.dayofyear').mean('initial_time0_hours')\n",
    "daily_mean_spfh = daily_roll_spfh.groupby('initial_time0_hours.dayofyear').mean('initial_time0_hours')"
   ]
  },
  {
   "cell_type": "code",
   "execution_count": 61,
   "metadata": {},
   "outputs": [
    {
     "name": "stdout",
     "output_type": "stream",
     "text": [
      "<xarray.Dataset>\n",
      "Dimensions:                (dayofyear: 366, g0_lat_1: 29, g0_lon_2: 29)\n",
      "Coordinates:\n",
      "  * g0_lat_1               (g0_lat_1) float32 67.5 66.25 65.0 ... 33.75 32.5\n",
      "  * g0_lon_2               (g0_lon_2) float32 350.0 351.25 352.5 ... 23.75 25.0\n",
      "  * dayofyear              (dayofyear) int64 1 2 3 4 5 6 ... 362 363 364 365 366\n",
      "Data variables:\n",
      "    PRMSL_GDS0_MSL         (dayofyear, g0_lat_1, g0_lon_2) float32 dask.array<shape=(366, 29, 29), chunksize=(1, 21, 21)>\n",
      "    initial_time0_encoded  (dayofyear) float64 dask.array<shape=(366,), chunksize=(1,)>\n"
     ]
    }
   ],
   "source": [
    "print (daily_mean_mslp)"
   ]
  },
  {
   "cell_type": "markdown",
   "metadata": {},
   "source": [
    "### Anomalien"
   ]
  },
  {
   "cell_type": "code",
   "execution_count": 56,
   "metadata": {},
   "outputs": [
    {
     "name": "stdout",
     "output_type": "stream",
     "text": [
      "<xarray.Dataset>\n",
      "Dimensions:                (g0_lat_1: 29, g0_lon_2: 29, initial_time0_hours: 1461)\n",
      "Coordinates:\n",
      "  * g0_lat_1               (g0_lat_1) float32 67.5 66.25 65.0 ... 33.75 32.5\n",
      "  * g0_lon_2               (g0_lon_2) float32 350.0 351.25 352.5 ... 23.75 25.0\n",
      "  * initial_time0_hours    (initial_time0_hours) datetime64[ns] 1958-01-01 ... 1961-12-31\n",
      "    dayofyear              (initial_time0_hours) int64 1 2 3 4 ... 363 364 365\n",
      "Data variables:\n",
      "    PRMSL_GDS0_MSL         (initial_time0_hours, g0_lat_1, g0_lon_2) float32 dask.array<shape=(1461, 29, 29), chunksize=(1, 21, 21)>\n",
      "    initial_time0_encoded  (initial_time0_hours) float64 dask.array<shape=(1461,), chunksize=(1,)>\n"
     ]
    }
   ],
   "source": [
    "# Anomalie = Tageswerte - Tagesmittelwert\n",
    "ano_mslp = daily_roll_mslp.groupby('initial_time0_hours.dayofyear') - daily_mean_mslp\n",
    "ano_rh = daily_roll_rh.groupby('initial_time0_hours.dayofyear') - daily_mean_rh\n",
    "ano_spfh = daily_roll_spfh.groupby('initial_time0_hours.dayofyear') - daily_mean_spfh\n",
    "print (ano_mslp)"
   ]
  },
  {
   "cell_type": "markdown",
   "metadata": {},
   "source": [
    "### Normieren der Anomalien"
   ]
  },
  {
   "cell_type": "code",
   "execution_count": 76,
   "metadata": {},
   "outputs": [
    {
     "name": "stderr",
     "output_type": "stream",
     "text": [
      "/opt/anaconda3/lib/python3.7/site-packages/xarray/core/groupby.py:758: FutureWarning: Default reduction dimension will be changed to the grouped dimension in a future version of xarray. To silence this warning, pass dim=xarray.ALL_DIMS explicitly.\n",
      "  allow_lazy=True, **kwargs)\n"
     ]
    }
   ],
   "source": [
    "std_mslp = daily_mean_mslp.groupby('dayofyear').std()\n",
    "std_rh = daily_mean_rh.groupby('dayofyear').std()\n",
    "std_spfh = daily_mean_spfh.groupby('dayofyear').std()"
   ]
  },
  {
   "cell_type": "code",
   "execution_count": 70,
   "metadata": {},
   "outputs": [
    {
     "name": "stdout",
     "output_type": "stream",
     "text": [
      "<xarray.Dataset>\n",
      "Dimensions:                (dayofyear: 366)\n",
      "Coordinates:\n",
      "  * dayofyear              (dayofyear) int64 1 2 3 4 5 6 ... 362 363 364 365 366\n",
      "Data variables:\n",
      "    PRMSL_GDS0_MSL         (dayofyear) float32 dask.array<shape=(366,), chunksize=(1,)>\n",
      "    initial_time0_encoded  (dayofyear) float64 dask.array<shape=(366,), chunksize=(1,)>\n"
     ]
    }
   ],
   "source": [
    "print (std_mslp)"
   ]
  },
  {
   "cell_type": "code",
   "execution_count": 77,
   "metadata": {},
   "outputs": [],
   "source": [
    "ano_nom_mslp = ano_mslp.groupby('initial_time0_hours.dayofyear')/std_mslp\n",
    "ano_nom_rh = ano_rh.groupby('initial_time0_hours.dayofyear')/std_rh\n",
    "ano_nom_spfh = ano_spfh.groupby('initial_time0_hours.dayofyear')/std_spfh"
   ]
  },
  {
   "cell_type": "code",
   "execution_count": 75,
   "metadata": {},
   "outputs": [
    {
     "data": {
      "text/plain": [
       "<xarray.Dataset>\n",
       "Dimensions:                (g0_lat_1: 29, g0_lon_2: 29, initial_time0_hours: 1461)\n",
       "Coordinates:\n",
       "  * g0_lat_1               (g0_lat_1) float32 67.5 66.25 65.0 ... 33.75 32.5\n",
       "  * g0_lon_2               (g0_lon_2) float32 350.0 351.25 352.5 ... 23.75 25.0\n",
       "  * initial_time0_hours    (initial_time0_hours) datetime64[ns] 1958-01-01 ... 1961-12-31\n",
       "    dayofyear              (initial_time0_hours) int64 1 2 3 4 ... 363 364 365\n",
       "Data variables:\n",
       "    PRMSL_GDS0_MSL         (initial_time0_hours, g0_lat_1, g0_lon_2) float32 dask.array<shape=(1461, 29, 29), chunksize=(1, 21, 21)>\n",
       "    initial_time0_encoded  (initial_time0_hours) float64 dask.array<shape=(1461,), chunksize=(1,)>"
      ]
     },
     "execution_count": 75,
     "metadata": {},
     "output_type": "execute_result"
    }
   ],
   "source": [
    "print (ano_nom_mslp)"
   ]
  },
  {
   "cell_type": "code",
   "execution_count": null,
   "metadata": {},
   "outputs": [],
   "source": []
  }
 ],
 "metadata": {
  "kernelspec": {
   "display_name": "Python 3",
   "language": "python",
   "name": "python3"
  },
  "language_info": {
   "codemirror_mode": {
    "name": "ipython",
    "version": 3
   },
   "file_extension": ".py",
   "mimetype": "text/x-python",
   "name": "python",
   "nbconvert_exporter": "python",
   "pygments_lexer": "ipython3",
   "version": "3.7.3"
  }
 },
 "nbformat": 4,
 "nbformat_minor": 2
}
